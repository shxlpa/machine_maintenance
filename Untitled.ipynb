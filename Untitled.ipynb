{
 "cells": [
  {
   "cell_type": "code",
   "execution_count": null,
   "id": "1211fed9-2f71-4e58-9726-55a4179b9187",
   "metadata": {},
   "outputs": [],
   "source": [
    "pip install "
   ]
  },
  {
   "cell_type": "code",
   "execution_count": 1,
   "id": "c1cd6949-98e5-42bc-ac94-a3bd5f9d5073",
   "metadata": {
    "tags": []
   },
   "outputs": [
    {
     "ename": "ModuleNotFoundError",
     "evalue": "No module named 'board'",
     "output_type": "error",
     "traceback": [
      "\u001b[0;31m---------------------------------------------------------------------------\u001b[0m",
      "\u001b[0;31mModuleNotFoundError\u001b[0m                       Traceback (most recent call last)",
      "Cell \u001b[0;32mIn [1], line 12\u001b[0m\n\u001b[1;32m      4\u001b[0m \u001b[38;5;124;03m\"\"\"Simple test script for 2.13\" 212x104 tri-color featherwing.\u001b[39;00m\n\u001b[1;32m      5\u001b[0m \n\u001b[1;32m      6\u001b[0m \u001b[38;5;124;03mSupported products:\u001b[39;00m\n\u001b[1;32m      7\u001b[0m \u001b[38;5;124;03m  * Adafruit 2.13\" Tri-Color FeatherWing\u001b[39;00m\n\u001b[1;32m      8\u001b[0m \u001b[38;5;124;03m    * https://www.adafruit.com/product/4128\u001b[39;00m\n\u001b[1;32m      9\u001b[0m \u001b[38;5;124;03m  \"\"\"\u001b[39;00m\n\u001b[1;32m     11\u001b[0m \u001b[38;5;28;01mimport\u001b[39;00m \u001b[38;5;21;01mtime\u001b[39;00m\n\u001b[0;32m---> 12\u001b[0m \u001b[38;5;28;01mimport\u001b[39;00m \u001b[38;5;21;01mboard\u001b[39;00m\n\u001b[1;32m     13\u001b[0m \u001b[38;5;28;01mimport\u001b[39;00m \u001b[38;5;21;01mdisplayio\u001b[39;00m\n\u001b[1;32m     14\u001b[0m \u001b[38;5;28;01mimport\u001b[39;00m \u001b[38;5;21;01mfourwire\u001b[39;00m\n",
      "\u001b[0;31mModuleNotFoundError\u001b[0m: No module named 'board'"
     ]
    }
   ],
   "source": [
    "# SPDX-FileCopyrightText: 2021 ladyada for Adafruit Industries\n",
    "# SPDX-License-Identifier: MIT\n",
    "\n",
    "\"\"\"Simple test script for 2.13\" 212x104 tri-color featherwing.\n",
    "\n",
    "Supported products:\n",
    "  * Adafruit 2.13\" Tri-Color FeatherWing\n",
    "    * https://www.adafruit.com/product/4128\n",
    "  \"\"\"\n",
    "\n",
    "import time\n",
    "import board\n",
    "import displayio\n",
    "import fourwire\n",
    "import adafruit_il0373\n",
    "\n",
    "displayio.release_displays()\n",
    "\n",
    "epd_cs = board.D9\n",
    "epd_dc = board.D10\n",
    "\n",
    "display_bus = fourwire.FourWire(\n",
    "    board.SPI(), command=epd_dc, chip_select=epd_cs, baudrate=1000000\n",
    ")\n",
    "time.sleep(1)\n",
    "\n",
    "display = adafruit_il0373.IL0373(\n",
    "    display_bus, width=212, height=104, rotation=90, highlight_color=0xFF0000\n",
    ")\n",
    "\n",
    "g = displayio.Group()\n",
    "\n",
    "with open(\"/display-ruler.bmp\", \"rb\") as f:\n",
    "    pic = displayio.OnDiskBitmap(f)\n",
    "    # CircuitPython 6 & 7 compatible\n",
    "    t = displayio.TileGrid(\n",
    "        pic, pixel_shader=getattr(pic, \"pixel_shader\", displayio.ColorConverter())\n",
    "    )\n",
    "    # CircuitPython 7 compatible only\n",
    "    # t = displayio.TileGrid(pic, pixel_shader=pic.pixel_shader)\n",
    "    g.append(t)\n",
    "\n",
    "    display.root_group = g\n",
    "\n",
    "    display.refresh()\n",
    "\n",
    "    print(\"refreshed\")\n",
    "\n",
    "    time.sleep(120)"
   ]
  },
  {
   "cell_type": "code",
   "execution_count": null,
   "id": "5544d143-1992-40bf-b81d-2f0cc14c4ded",
   "metadata": {},
   "outputs": [],
   "source": []
  }
 ],
 "metadata": {
  "kernelspec": {
   "display_name": "Python 3 (ipykernel)",
   "language": "python",
   "name": "python3"
  },
  "language_info": {
   "codemirror_mode": {
    "name": "ipython",
    "version": 3
   },
   "file_extension": ".py",
   "mimetype": "text/x-python",
   "name": "python",
   "nbconvert_exporter": "python",
   "pygments_lexer": "ipython3",
   "version": "3.11.0"
  }
 },
 "nbformat": 4,
 "nbformat_minor": 5
}
